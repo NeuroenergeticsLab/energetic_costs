{
 "cells": [
  {
   "cell_type": "code",
   "execution_count": null,
   "id": "d22fbb4f-f84a-41be-96af-19f0f7fe0c73",
   "metadata": {},
   "outputs": [
    {
     "name": "stdout",
     "output_type": "stream",
     "text": [
      "Obtaining file:///RAID1/jupytertmp/github/energetic_costs\n",
      "Installing collected packages: src\n",
      "  Running setup.py develop for src\n",
      "Successfully installed src-0.0.0\n"
     ]
    }
   ],
   "source": [
    "import sys\n",
    "!{sys.prefix}/bin/pip install -e energetic_costs/\n",
    "#../\n",
    "#Restart the kernel after installing\n",
    "os._exit(00)"
   ]
  },
  {
   "cell_type": "markdown",
   "id": "df239d10-f17d-4292-a1e8-5b6a92ba3304",
   "metadata": {},
   "source": [
    "#### Libraries loading"
   ]
  },
  {
   "cell_type": "code",
   "execution_count": 1,
   "id": "863e2090-c304-4b80-a39a-79c16c26eef4",
   "metadata": {},
   "outputs": [],
   "source": [
    "import warnings\n",
    "warnings.filterwarnings('ignore')\n",
    "warnings.simplefilter('ignore')\n",
    "from matplotlib import pyplot as plt\n",
    "%matplotlib inline\n",
    "\n",
    "import os,pickle\n",
    "import pandas as pd\n",
    "import numpy as np\n",
    "from scipy import stats\n",
    "import seaborn as sns\n",
    "from nilearn import datasets, input_data\n",
    "import enigmatoolbox\n",
    "from enigmatoolbox.utils.parcellation import surface_to_parcel,parcel_to_surface\n",
    "\n",
    "#BrainSmash\n",
    "from brainsmash.mapgen.base import Base \n",
    "from brainsmash.mapgen.eval import base_fit\n",
    "from brainsmash.mapgen.stats import pearsonr, pairwise_r, nonparp\n",
    "\n",
    "plt.rcParams['font.sans-serif'] = ['Open Sans']+plt.rcParams['font.sans-serif']\n",
    "sns.set_context(\"notebook\", font_scale=2.1)\n",
    "sns.set_style(\"whitegrid\")\n",
    "\n",
    "import src.functions\n",
    "%load_ext autoreload\n",
    "%autoreload 2"
   ]
  },
  {
   "cell_type": "markdown",
   "id": "c159ceec-8092-46a4-a67e-eba290e0dc3d",
   "metadata": {},
   "source": [
    "#### General variables and filepaths"
   ]
  },
  {
   "cell_type": "code",
   "execution_count": 6,
   "id": "ab28d2b6-2161-4875-a3c5-f2769cc67457",
   "metadata": {},
   "outputs": [],
   "source": [
    "root_dir = '../data'\n",
    "bids_dir = '../../../fdgquant2016/4eliana2convert2bids/bids2upload/derivatives/energetic-costs'\n",
    "\n",
    "conn_metric = 'degree'\n",
    "dc_type = 'weighted'\n",
    "pet_metric = 'cmrglc'\n",
    "atlas_suf = 'mmp'\n",
    "vol_res = '3mm'\n",
    "vol_space = 'mni-'+vol_res\n",
    "dc_z = '_z' \n",
    "y_var = pet_metric\n",
    "x_var = conn_metric+dc_z\n",
    "xlabel='dFC [Z-score]'\n",
    "ylabel='CMRglc [umol/(min*100g)]'\n",
    "\n",
    "gm_thr = 25\n",
    "fc_res_label = 'cpac_v1.4.0'\n",
    "dti_res_label = 'mrtrix3_v0.4.2'\n",
    "pipeline = '_compcor_ncomponents_5_selector_pc10.linear1.wm0.global0.motion1.quadratic1.gm0.compcor1.csf1'\n",
    "lh_dist_full = np.loadtxt(os.path.join(root_dir,'external','brainSMASH','LeftParcelGeodesicDistmat.txt'))\n",
    "\n",
    "\n",
    "sel_cm = 'RdBu_r'\n",
    "gray_c = [0.77,0.77,0.77,1]\n",
    "extended_cm=np.concatenate((np.array([gray_c]),getattr(plt.cm,sel_cm)(np.arange(0,getattr(plt.cm,sel_cm).N))))\n",
    "fig_res_dpi = 300\n",
    "s = 0.1"
   ]
  },
  {
   "cell_type": "markdown",
   "id": "8725b2ba-305e-4871-ac5a-de231c710dc3",
   "metadata": {},
   "source": [
    "#### Data Loading"
   ]
  },
  {
   "cell_type": "code",
   "execution_count": 20,
   "id": "85f216a4-6784-46b7-a4d8-494d9598dba4",
   "metadata": {},
   "outputs": [],
   "source": [
    "total_n_subj = 47\n",
    "cohorts_metadata_fn = os.path.join(root_dir,f'gx_all-cohorts_data_nsubj-{total_n_subj}_{conn_metric}-{dc_type}.pickle')\n",
    "if not os.path.exists(cohorts_metadata_fn):\n",
    "    !wget https://openneuro.org/crn/datasets/ds004513/files/derivatives:energetic-costs:gx_all-cohorts_data_nsubj-47_degree-weighted.pickle -O {cohorts_metadata_fn}\n",
    "with open(cohorts_metadata_fn, 'rb') as f:\n",
    "    cohorts_metadata = pickle.load(f)\n",
    "\n",
    "tum_participants_fn = os.path.join(root_dir,'._participants.tsv')\n",
    "if not os.path.exists(tum_participants_fn):\n",
    "    !wget https://openneuro.org/crn/datasets/ds004513/files/participants.tsv -O {tum_participants_fn}\n",
    "tum_participants_info = pd.read_csv(tum_participants_fn,sep='\\t')\n",
    "vie_participants_info = pd.read_csv(os.path.join(root_dir,'external','Sundar2018','VIE_participants.tsv'),sep='\\t')\n",
    "age_participants_mapping = {**dict(zip(tum_participants_info.participant_id.str.split('-').str[1],tum_participants_info.age)),**dict(zip(vie_participants_info.participant_id.str.split('-').str[1],vie_participants_info.age))}\n",
    "sex_participants_mapping = {**dict(zip(tum_participants_info.participant_id.str.split('-').str[1],tum_participants_info.sex)),**dict(zip(vie_participants_info.participant_id.str.split('-').str[1],vie_participants_info.sex))}\n"
   ]
  },
  {
   "cell_type": "markdown",
   "id": "89240000-2da1-4803-a208-42c7657e05a8",
   "metadata": {},
   "source": [
    "#### Atlas"
   ]
  },
  {
   "cell_type": "code",
   "execution_count": 10,
   "id": "a7f844c0-6b69-4348-80dc-5c1039e1b60e",
   "metadata": {},
   "outputs": [],
   "source": [
    "mmp_atlas_fn = os.path.join('../../..',f'MMP_in_MNI_corr_{vol_res}.nii.gz')\n",
    "mmp_n = 360\n",
    "N = '7'\n",
    "n = '400'\n",
    "yeo_suf = n+'_'+N+'N'\n",
    "schaefer_info = pd.read_csv(os.path.join(root_dir,'external','Schaefer2018_'+yeo_suf+'_order.txt'),sep='\\t',header=None)\n",
    "schaefer_info['network'] = schaefer_info[1].str.split('_').str.get(2)\n",
    "nw_label2id = dict(zip(schaefer_info['network'].unique(),range(1,int(N)+1)))\n",
    "nw_id2label=dict(zip(range(1,int(N)+1),schaefer_info['network'].unique()))\n",
    "schaefer_info['network_id'] = schaefer_info['network'].map(nw_label2id)\n",
    "schaefer_roi2nw = dict(zip(schaefer_info[0].tolist(), schaefer_info['network_id']))\n",
    "schaefer_info['network_id'] = schaefer_info['network'].map(nw_label2id)\n",
    "yeo2mmp = enigmatoolbox.utils.parcellation.surface_to_parcel(enigmatoolbox.utils.parcellation.parcel_to_surface(schaefer_info['network_id'].to_numpy(),\n",
    "                                                                                                                'schaefer_{}_conte69'.format(n)),\n",
    "                                                             'glasser_360_conte69',red_op='mode')\n",
    "mmp_dict={}\n",
    "mmp_dict['roi2network'] = dict(zip(range(1,int(mmp_n)+1),np.vectorize(nw_id2label.get)(yeo2mmp[1:].astype(int)).flatten()))\n",
    "yeo_colors = np.array(pd.read_csv(getattr(datasets.fetch_atlas_yeo_2011(),'colors_'+N),sep='\\s+').iloc[:,2:5]/255)\n",
    "yeo_nw_colors = {nw_id2label[i+1]: (yeo_colors[i,0],yeo_colors[i,1],yeo_colors[i,2]) for i in range(len(nw_id2label))} \n",
    "mmp_dict['nw2color'] = yeo_nw_colors\n",
    "ignore_yeo_nws = ['Other','None',None,'Limbic']"
   ]
  },
  {
   "cell_type": "markdown",
   "id": "4de025d5-2cb1-4894-b077-c0b1105111b2",
   "metadata": {},
   "source": [
    "#### Extraction and aggregation from nifti data into pandas dataframe"
   ]
  },
  {
   "cell_type": "code",
   "execution_count": 21,
   "id": "a83ece06-2772-4b8c-a912-527a45fcce71",
   "metadata": {},
   "outputs": [],
   "source": [
    "df_labels = {'all_ind_vox_vals':pd.DataFrame({}),'all_avg_vox_vals':pd.DataFrame({}),'all_avg_vox_vals_with_gx_mask':pd.DataFrame({})}\n",
    "for df_label in df_labels.keys():\n",
    "    all_df = pd.DataFrame({})\n",
    "    if df_label=='all_avg_vox_vals_with_gx_mask':\n",
    "        gmm_fn = os.path.join(bids_dir,f'sub-all_space-MNI152NLin6ASym_res-{vol_res}_desc-GM_mask.nii.gz')\n",
    "    for site in list(cohorts_metadata.keys())[:1]:\n",
    "        for coh in cohorts_metadata[site].keys():\n",
    "            bids_ses = \"ses-open\" if cohorts_metadata[site][coh][\"session\"]==\"AUF\" else \"ses-closed\"\n",
    "            if df_label=='all_avg_vox_vals':\n",
    "                gmm_fn = os.path.join(bids_dir,f'sub-{site}{coh}_{bids_ses}_space-MNI152NLin6ASym_res-{vol_res}_desc-GM_mask.nii.gz')\n",
    "            for sid in cohorts_metadata[site][coh]['sids']:\n",
    "                bids_sub = f'sub-s{sid:03d}'\n",
    "                bids_base_fn = f'{bids_sub}_{bids_ses}_task-rest_space-MNI152NLin6ASym_res-{vol_res}_desc-'\n",
    "                sub_dir = os.path.join(bids_dir,bids_sub,bids_ses)\n",
    "                if df_label=='all_ind_vox_vals':\n",
    "                    gmm_fn = os.path.join(sub_dir,'anat',f'{bids_base_fn}GM_mask.nii.gz'.replace('_task-rest',''))\n",
    "                dfc_fn = os.path.join(sub_dir,'func',f'{bids_base_fn}dFC_bold.nii.gz')\n",
    "                cmrglc_fn = os.path.join(sub_dir,'pet',f'{bids_base_fn}CMRglc_pet.nii.gz')\n",
    "                vbm_fn = os.path.join(sub_dir,'anat',f'{bids_base_fn}VBM_T1w.nii.gz'.replace('_task-rest',''))\n",
    "                ecosts_fn = os.path.join(sub_dir,'pet',f'{bids_base_fn}signcosts_pet.nii.gz')                \n",
    "                df = src.functions.nii2df({'mask':gmm_fn,'roi_id':mmp_atlas_fn, conn_metric:dfc_fn,pet_metric:cmrglc_fn,'energetic_costs':ecosts_fn, 'gm_vbm':vbm_fn,\n",
    "                                           'other_fields':{'sid':bids_sub.split('-')[1],'session':bids_ses.split('-')[1],'cohort':f'{site}.{coh}'}}\n",
    "                                         )\n",
    "                df['vox_id'] = np.arange(df.shape[0])\n",
    "                df['roi_id'] = df['roi_id'].astype(int)\n",
    "                df.loc[df['roi_id']>180,'roi_id'] = df.loc[df['roi_id']>180,'roi_id']-20 #MMP righ ROIS start at 200 istead of 181 \n",
    "                df['nw'] = df['roi_id'].map(mmp_dict['roi2network'])\n",
    "                df = df[((df[conn_metric]>0) & (~df['nw'].isin(ignore_yeo_nws)) & (~df['nw'].isna()))]\n",
    "                df[conn_metric+dc_z] = stats.zscore(df[conn_metric])\n",
    "                df['gm_vbm'+dc_z] = stats.zscore(df['gm_vbm'])\n",
    "                all_df = pd.concat([all_df,df], ignore_index=True)\n",
    "                #df_labels[df_label] = pd.concat([df_labels[df_label],df], ignore_index=True)\n",
    "    if df_label=='all_ind_vox_vals':\n",
    "        all_df.drop('vox_id', axis=1, inplace=True)\n",
    "        df_labels[df_label] = all_df.copy()\n",
    "    elif ((df_label=='all_avg_vox_vals') | (df_label=='all_avg_vox_vals_with_gx_mask')):\n",
    "        df_labels[df_label] = all_df.groupby(['cohort','nw','vox_id'], as_index=False).median()\n",
    "        df_labels[df_label]['vox_id'] = df_labels[df_label]['vox_id'].astype(int)\n",
    "        df_labels[df_label]['roi_id'] = df_labels[df_label]['roi_id'].astype(int)\n",
    "        if df_label=='all_avg_vox_vals':\n",
    "            all_avg_roi_vals = df_labels[df_label].groupby(['cohort','nw','roi_id'], as_index=False).median()\n",
    "            all_avg_roi_vals['roi_id'] = all_avg_roi_vals['roi_id'].astype(int)\n",
    "            all_avg_roi_vals.drop('vox_id', axis=1, inplace=True)\n",
    "        \n",
    "#if sid not in cohorts_metadata[site][coh]['individual_smash'].keys():\n",
    "#    cohorts_metadata[site][coh]['individual_smash'][sid] = {}\n",
    "#if f'smash_{x_var}-{y_var}' not in cohorts_metadata[site][coh]['individual_smash'][sid].keys():\n",
    "#    cohorts_metadata[selected_site][coh1]['individual_smash'][sid][f'smash_{x_var}-{y_var}'] = src.functions.smash_comp(metric2mmp(mm_vox_df,x_var,'roi_id'),metric2mmp(mm_vox_df,y_var,'roi_id'),lh_dist_full,\n",
    "#                                                                                                                        y_nii_fn=remove_ext(pet_mni_fn) if y_var==pet_metric else remove_ext(fmri_mni_fn),\n",
    "#                                                                                                                        l=5,u=95,n_mad='min',p_uthr=1,plot=False)\n"
   ]
  },
  {
   "cell_type": "markdown",
   "id": "d6f8a893-701c-4be1-b7a4-43f78b39d8f8",
   "metadata": {},
   "source": [
    "#### Dataframes saving into csv file"
   ]
  },
  {
   "cell_type": "code",
   "execution_count": null,
   "id": "ac267f3c-7a83-424c-baa6-db610b05bd0c",
   "metadata": {},
   "outputs": [],
   "source": [
    "df_labels['all_ind_vox_vals'].to_csv(os.path.join(root_dir,f'individual_all-cohorts_vox_nsubj-{total_n_subj}_{conn_metric}-{dc_type}.csv.zip'))\n",
    "df_labels['all_avg_vox_vals'].to_csv(os.path.join(root_dir,f'gx_all-cohorts_vox_nsubj-{total_n_subj}_{conn_metric}-{dc_type}.csv'))\n",
    "all_avg_roi_vals.to_csv(os.path.join(root_dir,f'gx_all-cohorts_roi_nsubj-{total_n_subj}_{conn_metric}-{dc_type}.csv'))\n",
    "df_labels['all_avg_vox_vals_with_gx_mask'].to_csv(os.path.join(root_dir,f'gx_all-cohorts_vox_gx-mask_nsubj-{total_n_subj}_{conn_metric}-{dc_type}.csv.zip'))\n"
   ]
  }
 ],
 "metadata": {
  "jupytext": {
   "formats": "ipynb,md"
  },
  "kernelspec": {
   "display_name": "Python 3 (ipykernel)",
   "language": "python",
   "name": "python3"
  },
  "language_info": {
   "codemirror_mode": {
    "name": "ipython",
    "version": 3
   },
   "file_extension": ".py",
   "mimetype": "text/x-python",
   "name": "python",
   "nbconvert_exporter": "python",
   "pygments_lexer": "ipython3",
   "version": "3.8.12"
  },
  "toc-autonumbering": false,
  "toc-showcode": false,
  "toc-showmarkdowntxt": false,
  "toc-showtags": false
 },
 "nbformat": 4,
 "nbformat_minor": 5
}
